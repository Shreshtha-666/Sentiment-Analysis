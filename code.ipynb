{
 "cells": [
  {
   "cell_type": "code",
   "execution_count": 1,
   "id": "0bb881f0",
   "metadata": {},
   "outputs": [
    {
     "name": "stdout",
     "output_type": "stream",
     "text": [
      "Collecting textblob\n",
      "  Obtaining dependency information for textblob from https://files.pythonhosted.org/packages/02/07/5fd2945356dd839974d3a25de8a142dc37293c21315729a41e775b5f3569/textblob-0.18.0.post0-py3-none-any.whl.metadata\n",
      "  Downloading textblob-0.18.0.post0-py3-none-any.whl.metadata (4.5 kB)\n",
      "Requirement already satisfied: nltk>=3.8 in c:\\users\\kiit\\anaconda3\\lib\\site-packages (from textblob) (3.8.1)\n",
      "Requirement already satisfied: click in c:\\users\\kiit\\anaconda3\\lib\\site-packages (from nltk>=3.8->textblob) (8.0.4)\n",
      "Requirement already satisfied: joblib in c:\\users\\kiit\\anaconda3\\lib\\site-packages (from nltk>=3.8->textblob) (1.2.0)\n",
      "Requirement already satisfied: regex>=2021.8.3 in c:\\users\\kiit\\anaconda3\\lib\\site-packages (from nltk>=3.8->textblob) (2022.7.9)\n",
      "Requirement already satisfied: tqdm in c:\\users\\kiit\\anaconda3\\lib\\site-packages (from nltk>=3.8->textblob) (4.65.0)\n",
      "Requirement already satisfied: colorama in c:\\users\\kiit\\anaconda3\\lib\\site-packages (from click->nltk>=3.8->textblob) (0.4.6)\n",
      "Downloading textblob-0.18.0.post0-py3-none-any.whl (626 kB)\n",
      "   ---------------------------------------- 0.0/626.3 kB ? eta -:--:--\n",
      "    --------------------------------------- 10.2/626.3 kB ? eta -:--:--\n",
      "    --------------------------------------- 10.2/626.3 kB ? eta -:--:--\n",
      "   --- ----------------------------------- 51.2/626.3 kB 375.8 kB/s eta 0:00:02\n",
      "   ------- ------------------------------ 122.9/626.3 kB 722.1 kB/s eta 0:00:01\n",
      "   -------------- ------------------------- 225.3/626.3 kB 1.1 MB/s eta 0:00:01\n",
      "   ------------------------------ --------- 471.0/626.3 kB 1.8 MB/s eta 0:00:01\n",
      "   ------------------------------------- -- 583.7/626.3 kB 2.0 MB/s eta 0:00:01\n",
      "   ---------------------------------------  624.6/626.3 kB 1.8 MB/s eta 0:00:01\n",
      "   ---------------------------------------- 626.3/626.3 kB 1.7 MB/s eta 0:00:00\n",
      "Installing collected packages: textblob\n",
      "Successfully installed textblob-0.18.0.post0\n"
     ]
    }
   ],
   "source": [
    "!pip install textblob\n"
   ]
  },
  {
   "cell_type": "code",
   "execution_count": 10,
   "id": "f0b44cd3",
   "metadata": {},
   "outputs": [
    {
     "name": "stdout",
     "output_type": "stream",
     "text": [
      "Sentiment Analysis Results:\n",
      "Positive Tweets: 1725\n",
      "Negative Tweets: 1147\n",
      "Neutral Tweets: 1128\n"
     ]
    }
   ],
   "source": [
    "import pandas as pd\n",
    "from textblob import TextBlob\n",
    "\n",
    "# Load the dataset\n",
    "df = pd.read_csv('test.csv')  \n",
    "\n",
    "df.dropna(subset=['Category'], inplace=True)\n",
    "\n",
    "df['Category'] = df['Category'].astype(str)\n",
    "\n",
    "def analyze_sentiment(tweet):\n",
    "    analysis = TextBlob(tweet)\n",
    "    if analysis.sentiment.polarity > 0:\n",
    "        return 'Positive'\n",
    "    elif analysis.sentiment.polarity == 0:\n",
    "        return 'Neutral'\n",
    "    else:\n",
    "        return 'Negative'\n",
    "\n",
    "\n",
    "df['Sentiment'] = df['Category'].apply(analyze_sentiment)\n",
    "\n",
    "sentiment_counts = df['Sentiment'].value_counts()\n",
    "\n",
    "# Print results\n",
    "print(\"Sentiment Analysis Results:\")\n",
    "print(\"Positive Tweets:\", sentiment_counts['Positive'])\n",
    "print(\"Negative Tweets:\", sentiment_counts['Negative'])\n",
    "print(\"Neutral Tweets:\", sentiment_counts['Neutral'])\n"
   ]
  },
  {
   "cell_type": "code",
   "execution_count": 9,
   "id": "27f7023b",
   "metadata": {},
   "outputs": [
    {
     "data": {
      "image/png": "[encoded data removed]",
      "text/plain": [
       "<Figure size 640x480 with 1 Axes>"
      ]
     },
     "metadata": {},
     "output_type": "display_data"
    }
   ],
   "source": [
    "import pandas as pd\n",
    "from textblob import TextBlob\n",
    "import matplotlib.pyplot as plt\n",
    "\n",
    "# Load the dataset\n",
    "df = pd.read_csv('test.csv')  \n",
    "\n",
    "\n",
    "df.dropna(subset=['Category'], inplace=True)\n",
    "\n",
    "\n",
    "df['Category'] = df['Category'].astype(str)\n",
    "\n",
    "\n",
    "def analyze_sentiment(tweet):\n",
    "    analysis = TextBlob(tweet)\n",
    "    if analysis.sentiment.polarity > 0:\n",
    "        return 'Positive'\n",
    "    elif analysis.sentiment.polarity == 0:\n",
    "        return 'Neutral'\n",
    "    else:\n",
    "        return 'Negative'\n",
    "\n",
    "\n",
    "df['Sentiment'] = df['Category'].apply(analyze_sentiment)\n",
    "\n",
    "sentiment_counts = df['Sentiment'].value_counts()\n",
    "plt.bar(sentiment_counts.index, sentiment_counts.values)\n",
    "plt.title('Sentiment Analysis Results')\n",
    "plt.xlabel('Sentiment')\n",
    "plt.ylabel('Number of Tweets')\n",
    "plt.show()\n"
   ]
  }
 ],
 "metadata": {
  "kernelspec": {
   "display_name": "Python 3 (ipykernel)",
   "language": "python",
   "name": "python3"
  },
  "language_info": {
   "codemirror_mode": {
    "name": "ipython",
    "version": 3
   },
   "file_extension": ".py",
   "mimetype": "text/x-python",
   "name": "python",
   "nbconvert_exporter": "python",
   "pygments_lexer": "ipython3",
   "version": "3.11.5"
  }
 },
 "nbformat": 4,
 "nbformat_minor": 5
}
